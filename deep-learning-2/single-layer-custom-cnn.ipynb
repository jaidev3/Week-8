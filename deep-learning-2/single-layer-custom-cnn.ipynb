{
 "cells": [
  {
   "cell_type": "code",
   "execution_count": 6,
   "id": "471d3868",
   "metadata": {},
   "outputs": [
    {
     "name": "stdout",
     "output_type": "stream",
     "text": [
      "Requirement already satisfied: torch in /Users/dev/Documents/GitHub/Week-8/venv/lib/python3.13/site-packages (2.7.1)\n",
      "Requirement already satisfied: matplotlib in /Users/dev/Documents/GitHub/Week-8/venv/lib/python3.13/site-packages (3.10.3)\n",
      "Requirement already satisfied: numpy in /Users/dev/Documents/GitHub/Week-8/venv/lib/python3.13/site-packages (2.3.2)\n",
      "Collecting scikit-learn\n",
      "  Using cached scikit_learn-1.7.1-cp313-cp313-macosx_12_0_arm64.whl.metadata (11 kB)\n",
      "Requirement already satisfied: filelock in /Users/dev/Documents/GitHub/Week-8/venv/lib/python3.13/site-packages (from torch) (3.18.0)\n",
      "Requirement already satisfied: typing-extensions>=4.10.0 in /Users/dev/Documents/GitHub/Week-8/venv/lib/python3.13/site-packages (from torch) (4.14.1)\n",
      "Requirement already satisfied: setuptools in /Users/dev/Documents/GitHub/Week-8/venv/lib/python3.13/site-packages (from torch) (80.9.0)\n",
      "Requirement already satisfied: sympy>=1.13.3 in /Users/dev/Documents/GitHub/Week-8/venv/lib/python3.13/site-packages (from torch) (1.14.0)\n",
      "Requirement already satisfied: networkx in /Users/dev/Documents/GitHub/Week-8/venv/lib/python3.13/site-packages (from torch) (3.5)\n",
      "Requirement already satisfied: jinja2 in /Users/dev/Documents/GitHub/Week-8/venv/lib/python3.13/site-packages (from torch) (3.1.6)\n",
      "Requirement already satisfied: fsspec in /Users/dev/Documents/GitHub/Week-8/venv/lib/python3.13/site-packages (from torch) (2025.7.0)\n",
      "Requirement already satisfied: contourpy>=1.0.1 in /Users/dev/Documents/GitHub/Week-8/venv/lib/python3.13/site-packages (from matplotlib) (1.3.3)\n",
      "Requirement already satisfied: cycler>=0.10 in /Users/dev/Documents/GitHub/Week-8/venv/lib/python3.13/site-packages (from matplotlib) (0.12.1)\n",
      "Requirement already satisfied: fonttools>=4.22.0 in /Users/dev/Documents/GitHub/Week-8/venv/lib/python3.13/site-packages (from matplotlib) (4.59.0)\n",
      "Requirement already satisfied: kiwisolver>=1.3.1 in /Users/dev/Documents/GitHub/Week-8/venv/lib/python3.13/site-packages (from matplotlib) (1.4.8)\n",
      "Requirement already satisfied: packaging>=20.0 in /Users/dev/Documents/GitHub/Week-8/venv/lib/python3.13/site-packages (from matplotlib) (25.0)\n",
      "Requirement already satisfied: pillow>=8 in /Users/dev/Documents/GitHub/Week-8/venv/lib/python3.13/site-packages (from matplotlib) (11.3.0)\n",
      "Requirement already satisfied: pyparsing>=2.3.1 in /Users/dev/Documents/GitHub/Week-8/venv/lib/python3.13/site-packages (from matplotlib) (3.2.3)\n",
      "Requirement already satisfied: python-dateutil>=2.7 in /Users/dev/Documents/GitHub/Week-8/venv/lib/python3.13/site-packages (from matplotlib) (2.9.0.post0)\n",
      "Collecting scipy>=1.8.0 (from scikit-learn)\n",
      "  Using cached scipy-1.16.1-cp313-cp313-macosx_14_0_arm64.whl.metadata (61 kB)\n",
      "Collecting joblib>=1.2.0 (from scikit-learn)\n",
      "  Using cached joblib-1.5.1-py3-none-any.whl.metadata (5.6 kB)\n",
      "Collecting threadpoolctl>=3.1.0 (from scikit-learn)\n",
      "  Using cached threadpoolctl-3.6.0-py3-none-any.whl.metadata (13 kB)\n",
      "Requirement already satisfied: six>=1.5 in /Users/dev/Documents/GitHub/Week-8/venv/lib/python3.13/site-packages (from python-dateutil>=2.7->matplotlib) (1.17.0)\n",
      "Requirement already satisfied: mpmath<1.4,>=1.1.0 in /Users/dev/Documents/GitHub/Week-8/venv/lib/python3.13/site-packages (from sympy>=1.13.3->torch) (1.3.0)\n",
      "Requirement already satisfied: MarkupSafe>=2.0 in /Users/dev/Documents/GitHub/Week-8/venv/lib/python3.13/site-packages (from jinja2->torch) (3.0.2)\n",
      "Using cached scikit_learn-1.7.1-cp313-cp313-macosx_12_0_arm64.whl (8.6 MB)\n",
      "Using cached joblib-1.5.1-py3-none-any.whl (307 kB)\n",
      "Using cached scipy-1.16.1-cp313-cp313-macosx_14_0_arm64.whl (20.8 MB)\n",
      "Using cached threadpoolctl-3.6.0-py3-none-any.whl (18 kB)\n",
      "Installing collected packages: threadpoolctl, scipy, joblib, scikit-learn\n",
      "\u001b[2K   \u001b[90m━━━━━━━━━━━━━━━━━━━━━━━━━━━━━━━━━━━━━━━━\u001b[0m \u001b[32m4/4\u001b[0m [scikit-learn][0m [scikit-learn]\n",
      "\u001b[1A\u001b[2KSuccessfully installed joblib-1.5.1 scikit-learn-1.7.1 scipy-1.16.1 threadpoolctl-3.6.0\n"
     ]
    }
   ],
   "source": [
    "!pip install torch matplotlib numpy scikit-learn"
   ]
  },
  {
   "cell_type": "code",
   "execution_count": 16,
   "id": "92cad884",
   "metadata": {},
   "outputs": [
    {
     "name": "stdout",
     "output_type": "stream",
     "text": [
      "Epoch 1: Loss = 0.97\n",
      "Epoch 30: Loss = 0.16\n",
      "Accuracy on test set = 100.0%\n"
     ]
    }
   ],
   "source": [
    "import numpy as np\n",
    "from sklearn.datasets import make_classification\n",
    "from sklearn.model_selection import train_test_split\n",
    "\n",
    "# Generate dataset (note: added n_redundant=0 to avoid ValueError)\n",
    "X, y = make_classification(n_samples=100, n_features=2, n_redundant=0, n_classes=2, random_state=1)\n",
    "\n",
    "# Alternatively, if using CSV:\n",
    "# import pandas as pd\n",
    "# df = pd.read_csv('binary_data.csv')\n",
    "# X = df[['f1', 'f2']].values\n",
    "# y = df['label'].values\n",
    "\n",
    "# Split into train and test\n",
    "X_train, X_test, y_train, y_test = train_test_split(X, y, test_size=0.2, random_state=42)\n",
    "y_train = y_train.reshape(-1, 1)\n",
    "y_test = y_test.reshape(-1, 1)\n",
    "\n",
    "def sigmoid(z):\n",
    "    return 1 / (1 + np.exp(-z))\n",
    "\n",
    "# Initialize parameters\n",
    "w = np.zeros((X.shape[1], 1))\n",
    "b = 2.0\n",
    "\n",
    "lr = 0.4  # Learning rate\n",
    "epochs = 30\n",
    "m = X_train.shape[0]\n",
    "\n",
    "for epoch in range(1, epochs + 1):\n",
    "    z = np.dot(X_train, w) + b\n",
    "    a = sigmoid(z)\n",
    "    \n",
    "    # Gradients\n",
    "    dz = a - y_train\n",
    "    dw = np.dot(X_train.T, dz) / m\n",
    "    db = np.mean(dz)\n",
    "    \n",
    "    # Update weights\n",
    "    w -= lr * dw\n",
    "    b -= lr * db\n",
    "    \n",
    "    # Compute loss after update\n",
    "    z = np.dot(X_train, w) + b\n",
    "    a = sigmoid(z)\n",
    "    loss = -np.mean(y_train * np.log(a + 1e-10) + (1 - y_train) * np.log(1 - a + 1e-10))\n",
    "    \n",
    "    if epoch == 1:\n",
    "        print(f\"Epoch 1: Loss = {loss:.2f}\")\n",
    "    if epoch == 30:\n",
    "        print(f\"Epoch 30: Loss = {loss:.2f}\")\n",
    "\n",
    "# Accuracy on test set\n",
    "z_test = np.dot(X_test, w) + b\n",
    "a_test = sigmoid(z_test)\n",
    "preds = (a_test > 0.5).astype(int)\n",
    "acc = np.mean(preds == y_test) * 100\n",
    "print(f\"Accuracy on test set = {acc:.1f}%\")"
   ]
  }
 ],
 "metadata": {
  "kernelspec": {
   "display_name": "venv",
   "language": "python",
   "name": "python3"
  },
  "language_info": {
   "codemirror_mode": {
    "name": "ipython",
    "version": 3
   },
   "file_extension": ".py",
   "mimetype": "text/x-python",
   "name": "python",
   "nbconvert_exporter": "python",
   "pygments_lexer": "ipython3",
   "version": "3.13.5"
  }
 },
 "nbformat": 4,
 "nbformat_minor": 5
}
