{
 "cells": [
  {
   "cell_type": "code",
   "execution_count": 1,
   "id": "e88fdaa7",
   "metadata": {},
   "outputs": [
    {
     "name": "stdout",
     "output_type": "stream",
     "text": [
      "Requirement already satisfied: torch in /Users/dev/Documents/GitHub/Week-8/venv/lib/python3.13/site-packages (2.7.1)\n",
      "Requirement already satisfied: filelock in /Users/dev/Documents/GitHub/Week-8/venv/lib/python3.13/site-packages (from torch) (3.18.0)\n",
      "Requirement already satisfied: typing-extensions>=4.10.0 in /Users/dev/Documents/GitHub/Week-8/venv/lib/python3.13/site-packages (from torch) (4.14.1)\n",
      "Requirement already satisfied: setuptools in /Users/dev/Documents/GitHub/Week-8/venv/lib/python3.13/site-packages (from torch) (80.9.0)\n",
      "Requirement already satisfied: sympy>=1.13.3 in /Users/dev/Documents/GitHub/Week-8/venv/lib/python3.13/site-packages (from torch) (1.14.0)\n",
      "Requirement already satisfied: networkx in /Users/dev/Documents/GitHub/Week-8/venv/lib/python3.13/site-packages (from torch) (3.5)\n",
      "Requirement already satisfied: jinja2 in /Users/dev/Documents/GitHub/Week-8/venv/lib/python3.13/site-packages (from torch) (3.1.6)\n",
      "Requirement already satisfied: fsspec in /Users/dev/Documents/GitHub/Week-8/venv/lib/python3.13/site-packages (from torch) (2025.7.0)\n",
      "Requirement already satisfied: mpmath<1.4,>=1.1.0 in /Users/dev/Documents/GitHub/Week-8/venv/lib/python3.13/site-packages (from sympy>=1.13.3->torch) (1.3.0)\n",
      "Requirement already satisfied: MarkupSafe>=2.0 in /Users/dev/Documents/GitHub/Week-8/venv/lib/python3.13/site-packages (from jinja2->torch) (3.0.2)\n"
     ]
    }
   ],
   "source": [
    "!pip install torch"
   ]
  },
  {
   "cell_type": "code",
   "execution_count": 2,
   "id": "3808bf38",
   "metadata": {},
   "outputs": [
    {
     "name": "stdout",
     "output_type": "stream",
     "text": [
      "Using device: cpu\n",
      "A:\n",
      "tensor([[ 0.7071, -0.1511],\n",
      "        [ 1.1139, -0.2966],\n",
      "        [ 0.2214, -0.7422]])\n",
      "\n",
      "B:\n",
      "tensor([[-0.6916, -1.0654, -2.6135],\n",
      "        [-1.7431, -0.2545, -0.5129]])\n",
      "\n",
      "C (A @ B):\n",
      "tensor([[-0.2256, -0.7148, -1.7704],\n",
      "        [-0.2534, -1.1112, -2.7590],\n",
      "        [ 1.1405, -0.0470, -0.1980]])\n",
      "\n",
      "D (A + ones):\n",
      "tensor([[1.7071, 0.8489],\n",
      "        [2.1139, 0.7034],\n",
      "        [1.2214, 0.2578]])\n",
      "\n",
      "C is on device: cpu\n",
      "\n",
      "D is on device: cpu\n"
     ]
    }
   ],
   "source": [
    "import torch\n",
    "\n",
    "# Check if GPU is available and set device\n",
    "device = torch.device(\"cuda\" if torch.cuda.is_available() else \"cpu\")\n",
    "print(f\"Using device: {device}\")\n",
    "\n",
    "# Create tensor A: 3x2 matrix with random values from normal distribution\n",
    "A = torch.randn(3, 2)\n",
    "print(f\"A:\\n{A}\\n\")\n",
    "\n",
    "# Create tensor B: 2x3 matrix with random values from normal distribution\n",
    "B = torch.randn(2, 3)\n",
    "print(f\"B:\\n{B}\\n\")\n",
    "\n",
    "# Compute matrix multiplication: C = A @ B\n",
    "# @ is the matrix multiplication operator; result is 3x3\n",
    "C = A @ B\n",
    "print(f\"C (A @ B):\\n{C}\\n\")\n",
    "\n",
    "# Compute element-wise addition: D = A + ones_like(A)\n",
    "# ones_like creates a tensor of ones matching A's shape\n",
    "D = A + torch.ones_like(A)\n",
    "print(f\"D (A + ones):\\n{D}\\n\")\n",
    "\n",
    "# Move tensor C to GPU if available, else keep on CPU\n",
    "C = C.to(device)\n",
    "print(f\"C is on device: {C.device}\\n\")\n",
    "\n",
    "# Move tensor D to GPU if available, else keep on CPU\n",
    "D = D.to(device)\n",
    "print(f\"D is on device: {D.device}\")"
   ]
  }
 ],
 "metadata": {
  "kernelspec": {
   "display_name": "venv",
   "language": "python",
   "name": "python3"
  },
  "language_info": {
   "codemirror_mode": {
    "name": "ipython",
    "version": 3
   },
   "file_extension": ".py",
   "mimetype": "text/x-python",
   "name": "python",
   "nbconvert_exporter": "python",
   "pygments_lexer": "ipython3",
   "version": "3.13.5"
  }
 },
 "nbformat": 4,
 "nbformat_minor": 5
}
