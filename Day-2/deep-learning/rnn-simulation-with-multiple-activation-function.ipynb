{
 "cells": [
  {
   "cell_type": "code",
   "execution_count": 1,
   "id": "6d25d553",
   "metadata": {},
   "outputs": [
    {
     "name": "stdout",
     "output_type": "stream",
     "text": [
      "Requirement already satisfied: numpy in /Users/dev/Documents/GitHub/Week-8/venv/lib/python3.13/site-packages (2.3.2)\n",
      "Requirement already satisfied: matplotlib in /Users/dev/Documents/GitHub/Week-8/venv/lib/python3.13/site-packages (3.10.3)\n",
      "Requirement already satisfied: contourpy>=1.0.1 in /Users/dev/Documents/GitHub/Week-8/venv/lib/python3.13/site-packages (from matplotlib) (1.3.3)\n",
      "Requirement already satisfied: cycler>=0.10 in /Users/dev/Documents/GitHub/Week-8/venv/lib/python3.13/site-packages (from matplotlib) (0.12.1)\n",
      "Requirement already satisfied: fonttools>=4.22.0 in /Users/dev/Documents/GitHub/Week-8/venv/lib/python3.13/site-packages (from matplotlib) (4.59.0)\n",
      "Requirement already satisfied: kiwisolver>=1.3.1 in /Users/dev/Documents/GitHub/Week-8/venv/lib/python3.13/site-packages (from matplotlib) (1.4.8)\n",
      "Requirement already satisfied: packaging>=20.0 in /Users/dev/Documents/GitHub/Week-8/venv/lib/python3.13/site-packages (from matplotlib) (25.0)\n",
      "Requirement already satisfied: pillow>=8 in /Users/dev/Documents/GitHub/Week-8/venv/lib/python3.13/site-packages (from matplotlib) (11.3.0)\n",
      "Requirement already satisfied: pyparsing>=2.3.1 in /Users/dev/Documents/GitHub/Week-8/venv/lib/python3.13/site-packages (from matplotlib) (3.2.3)\n",
      "Requirement already satisfied: python-dateutil>=2.7 in /Users/dev/Documents/GitHub/Week-8/venv/lib/python3.13/site-packages (from matplotlib) (2.9.0.post0)\n",
      "Requirement already satisfied: six>=1.5 in /Users/dev/Documents/GitHub/Week-8/venv/lib/python3.13/site-packages (from python-dateutil>=2.7->matplotlib) (1.17.0)\n"
     ]
    }
   ],
   "source": [
    "! pip install numpy matplotlib"
   ]
  },
  {
   "cell_type": "code",
   "execution_count": 8,
   "id": "1e65f0e8",
   "metadata": {},
   "outputs": [
    {
     "name": "stdout",
     "output_type": "stream",
     "text": [
      "Random Seed: 42\n",
      "\n",
      "Generated Network:\n",
      "- Input Features: 5 -> Values: [np.float64(4.6), np.float64(2.0), np.float64(-6.9), np.float64(-6.9), np.float64(-8.8)]\n",
      "- Hidden Layers: 1\n",
      "  • Layer 1: 4 neurons\n",
      "- Output Layer: 2 neuron\n",
      "\n",
      "Weights and Biases:\n",
      "Layer 1:\n",
      "Weights:\n",
      "[[ 0.73235229  0.20223002  0.41614516 -0.95883101  0.9398197 ]\n",
      " [ 0.66488528 -0.57532178 -0.63635007 -0.63319098 -0.39151551]\n",
      " [ 0.04951286 -0.13610996 -0.41754172  0.22370579 -0.72101228]\n",
      " [-0.4157107  -0.26727631 -0.08786003  0.57035192 -0.60065244]]\n",
      "Biases:\n",
      "[ 0.02846888  0.18482914 -0.90709917  0.2150897 ]\n",
      "\n",
      "Layer 2:\n",
      "Weights:\n",
      "[[-0.65895175 -0.86989681  0.89777107  0.93126407]\n",
      " [ 0.6167947  -0.39077246 -0.80465577  0.36846605]]\n",
      "Biases:\n",
      "[-0.11969501 -0.75592353]\n",
      "\n",
      "Final Outputs:\n",
      "- Sigmoid: [0.526]\n",
      "- Tanh: [0.095]\n",
      "- ReLU: [0.000]\n",
      "- Leaky ReLU: [-0.065]\n"
     ]
    },
    {
     "data": {
      "image/png": "[encoded data removed]",
      "text/plain": [
       "<Figure size 640x480 with 1 Axes>"
      ]
     },
     "metadata": {},
     "output_type": "display_data"
    },
    {
     "name": "stdout",
     "output_type": "stream",
     "text": [
      "\n",
      "Output Plot Displayed\n"
     ]
    }
   ],
   "source": [
    "import numpy as np\n",
    "import matplotlib.pyplot as plt\n",
    "\n",
    "# Activation functions\n",
    "def sigmoid(x):\n",
    "    return 1 / (1 + np.exp(-x))\n",
    "\n",
    "def tanh(x):\n",
    "    return np.tanh(x)\n",
    "\n",
    "def relu(x):\n",
    "    return np.maximum(0, x)\n",
    "\n",
    "def leaky_relu(x):\n",
    "    return np.where(x > 0, x, 0.01 * x)\n",
    "\n",
    "# Forward propagation function\n",
    "def forward_pass(input_vec, weights_list, biases_list, activation):\n",
    "    a = input_vec\n",
    "    for w, b in zip(weights_list, biases_list):\n",
    "        z = np.dot(w, a) + b\n",
    "        a = activation(z)\n",
    "    return a\n",
    "\n",
    "# Set seed for reproducibility\n",
    "np.random.seed(42)\n",
    "\n",
    "# Generate random network structure\n",
    "n = np.random.randint(3, 7)  # Input features [3,6]\n",
    "L = np.random.randint(1, 4)  # Hidden layers [1,3]\n",
    "hidden_neurons = [np.random.randint(2, 6) for _ in range(L)]  # Neurons per hidden layer [2,5]\n",
    "\n",
    "# Output layer has 1 neuron\n",
    "output_neurons = 2\n",
    "\n",
    "# Layer sizes\n",
    "layer_sizes = [n] + hidden_neurons + [output_neurons]\n",
    "\n",
    "# Generate random input\n",
    "input_vec = np.random.uniform(-10, 10, n)\n",
    "\n",
    "# Generate weights and biases\n",
    "weights_list = []\n",
    "biases_list = []\n",
    "for i in range(len(layer_sizes) - 1):\n",
    "    weights = np.random.uniform(-1, 1, (layer_sizes[i+1], layer_sizes[i]))\n",
    "    biases = np.random.uniform(-1, 1, layer_sizes[i+1])\n",
    "    weights_list.append(weights)\n",
    "    biases_list.append(biases)\n",
    "\n",
    "# Print network structure\n",
    "print(\"Random Seed: 42\")\n",
    "print(\"\\nGenerated Network:\")\n",
    "print(f\"- Input Features: {n} -> Values: {list(np.round(input_vec, 1))}\")\n",
    "print(f\"- Hidden Layers: {L}\")\n",
    "for i, neurons in enumerate(hidden_neurons, 1):\n",
    "    print(f\"  • Layer {i}: {neurons} neurons\")\n",
    "print(f\"- Output Layer: {output_neurons} neuron\")\n",
    "\n",
    "# Print weights and biases\n",
    "print(\"\\nWeights and Biases:\")\n",
    "for i in range(len(weights_list)):\n",
    "    print(f\"Layer {i+1}:\")\n",
    "    print(\"Weights:\")\n",
    "    print(weights_list[i])\n",
    "    print(\"Biases:\")\n",
    "    print(biases_list[i])\n",
    "    print()\n",
    "\n",
    "# Activation functions dictionary\n",
    "activations = {\n",
    "    'Sigmoid': sigmoid,\n",
    "    'Tanh': tanh,\n",
    "    'ReLU': relu,\n",
    "    'Leaky ReLU': leaky_relu\n",
    "}\n",
    "\n",
    "# Compute final outputs\n",
    "final_outputs = {}\n",
    "for name, act in activations.items():\n",
    "    output = forward_pass(input_vec, weights_list, biases_list, act)\n",
    "    final_outputs[name] = output[0]  # Since output is array of size 1\n",
    "\n",
    "# Print final outputs\n",
    "print(\"Final Outputs:\")\n",
    "for name, value in final_outputs.items():\n",
    "    print(f\"- {name}: [{value:.3f}]\")\n",
    "\n",
    "# Plot the final outputs\n",
    "plt.bar(final_outputs.keys(), final_outputs.values())\n",
    "plt.title(\"Final Output Values for Different Activation Functions\")\n",
    "plt.ylabel(\"Output Value\")\n",
    "plt.show()\n",
    "\n",
    "print(\"\\nOutput Plot Displayed\")"
   ]
  }
 ],
 "metadata": {
  "kernelspec": {
   "display_name": "venv",
   "language": "python",
   "name": "python3"
  },
  "language_info": {
   "codemirror_mode": {
    "name": "ipython",
    "version": 3
   },
   "file_extension": ".py",
   "mimetype": "text/x-python",
   "name": "python",
   "nbconvert_exporter": "python",
   "pygments_lexer": "ipython3",
   "version": "3.13.5"
  }
 },
 "nbformat": 4,
 "nbformat_minor": 5
}
