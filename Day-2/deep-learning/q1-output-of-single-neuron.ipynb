{
 "cells": [
  {
   "cell_type": "code",
   "execution_count": 10,
   "id": "c64a3433",
   "metadata": {},
   "outputs": [
    {
     "name": "stdout",
     "output_type": "stream",
     "text": [
      "x1: 1.0, x2: 2.0, w1: 0.4, w2: 0.6, b: 0.5\n",
      "z: 2.1\n"
     ]
    }
   ],
   "source": [
    "import math\n",
    "\n",
    "# Get input from user\n",
    "x1 = float(input(\"Enter x1: \"))\n",
    "x2 = float(input(\"Enter x2: \"))\n",
    "w1 = float(input(\"Enter w1: \"))\n",
    "w2 = float(input(\"Enter w2: \"))\n",
    "b = float(input(\"Enter bias: \"))\n",
    "\n",
    "print(f\"x1: {x1}, x2: {x2}, w1: {w1}, w2: {w2}, b: {b}\")\n",
    "\n",
    "z = x1*w1 + x2*w2 + b\n",
    "\n",
    "print(f\"z: {z}\")"
   ]
  },
  {
   "cell_type": "code",
   "execution_count": 14,
   "id": "7c910613",
   "metadata": {},
   "outputs": [
    {
     "name": "stdout",
     "output_type": "stream",
     "text": [
      "Neuron Output: 0.891\n"
     ]
    }
   ],
   "source": [
    "z = x1*w1 + x2*w2 + b\n",
    "\n",
    "output = round(1 / (1 + math.exp(-z)), 3)\n",
    "\n",
    "\n",
    "print(f\"Neuron Output: {output}\")"
   ]
  }
 ],
 "metadata": {
  "kernelspec": {
   "display_name": "venv",
   "language": "python",
   "name": "python3"
  },
  "language_info": {
   "codemirror_mode": {
    "name": "ipython",
    "version": 3
   },
   "file_extension": ".py",
   "mimetype": "text/x-python",
   "name": "python",
   "nbconvert_exporter": "python",
   "pygments_lexer": "ipython3",
   "version": "3.13.5"
  }
 },
 "nbformat": 4,
 "nbformat_minor": 5
}
