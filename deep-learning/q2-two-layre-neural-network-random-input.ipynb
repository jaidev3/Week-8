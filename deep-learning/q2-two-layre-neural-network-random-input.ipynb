{
 "cells": [
  {
   "cell_type": "code",
   "execution_count": 11,
   "id": "65c4cb8a",
   "metadata": {},
   "outputs": [
    {
     "name": "stdout",
     "output_type": "stream",
     "text": [
      "Inputs: [-0.1, -0.6, 0.6]\n",
      "Hidden layer weights: [[0.0, 0.5, 0.9], [-0.5, 0.7, -0.2]]\n",
      "Hidden layer biases: [-0.3, 0.3]\n",
      "Hidden outputs: [0.49, 0.45]\n",
      "Output layer weights: [-0.3, -0.4]\n",
      "Bias: -0.1\n",
      "Final Output: 0.385\n"
     ]
    }
   ],
   "source": [
    "import random\n",
    "import math\n",
    "\n",
    "# Generate random inputs\n",
    "inputs = [random.uniform(-1, 1) for _ in range(3)]\n",
    "\n",
    "# Generate hidden layer weights (2 neurons, each with 3 weights)\n",
    "hidden_weights = [[random.uniform(-1, 1) for _ in range(3)] for _ in range(2)]\n",
    "\n",
    "# Generate hidden layer biases\n",
    "hidden_biases = [random.uniform(-1, 1) for _ in range(2)]\n",
    "\n",
    "# Compute hidden layer outputs\n",
    "hidden_outputs = []\n",
    "for i in range(2):\n",
    "    z = sum(inputs[j] * hidden_weights[i][j] for j in range(3)) + hidden_biases[i]\n",
    "    output = 1 / (1 + math.exp(-z))\n",
    "    hidden_outputs.append(round(output, 2))  # Round to 2 decimal places as in example\n",
    "\n",
    "# Generate output layer weights (2 weights)\n",
    "output_weights = [random.uniform(-1, 1) for _ in range(2)]\n",
    "\n",
    "# Generate output bias\n",
    "output_bias = random.uniform(-1, 1)\n",
    "\n",
    "# Compute final output\n",
    "z_out = sum(hidden_outputs[k] * output_weights[k] for k in range(2)) + output_bias\n",
    "final_output = 1 / (1 + math.exp(-z_out))\n",
    "\n",
    "# Print all values\n",
    "print(f\"Inputs: {[round(x, 1) for x in inputs]}\")\n",
    "print(f\"Hidden layer weights: {[[round(w, 1) for w in neuron] for neuron in hidden_weights]}\")\n",
    "print(f\"Hidden layer biases: {[round(b, 1) for b in hidden_biases]}\")\n",
    "print(f\"Hidden outputs: {hidden_outputs}\")\n",
    "print(f\"Output layer weights: {[round(w, 1) for w in output_weights]}\")\n",
    "print(f\"Bias: {round(output_bias, 1)}\")\n",
    "print(f\"Final Output: {round(final_output, 3)}\")"
   ]
  }
 ],
 "metadata": {
  "kernelspec": {
   "display_name": "venv",
   "language": "python",
   "name": "python3"
  },
  "language_info": {
   "codemirror_mode": {
    "name": "ipython",
    "version": 3
   },
   "file_extension": ".py",
   "mimetype": "text/x-python",
   "name": "python",
   "nbconvert_exporter": "python",
   "pygments_lexer": "ipython3",
   "version": "3.13.5"
  }
 },
 "nbformat": 4,
 "nbformat_minor": 5
}
