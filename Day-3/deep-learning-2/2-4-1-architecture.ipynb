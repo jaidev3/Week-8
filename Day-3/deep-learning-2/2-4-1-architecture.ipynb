{
 "cells": [
  {
   "cell_type": "markdown",
   "id": "38eda40b",
   "metadata": {},
   "source": [
    "kk"
   ]
  },
  {
   "cell_type": "code",
   "execution_count": 2,
   "id": "8858de20",
   "metadata": {},
   "outputs": [
    {
     "name": "stdout",
     "output_type": "stream",
     "text": [
      "Collecting torch\n",
      "  Using cached torch-2.7.1-cp313-none-macosx_11_0_arm64.whl.metadata (29 kB)\n",
      "Collecting filelock (from torch)\n",
      "  Using cached filelock-3.18.0-py3-none-any.whl.metadata (2.9 kB)\n",
      "Requirement already satisfied: typing-extensions>=4.10.0 in /Users/dev/Documents/GitHub/Week-8/venv/lib/python3.13/site-packages (from torch) (4.14.1)\n",
      "Collecting setuptools (from torch)\n",
      "  Using cached setuptools-80.9.0-py3-none-any.whl.metadata (6.6 kB)\n",
      "Collecting sympy>=1.13.3 (from torch)\n",
      "  Using cached sympy-1.14.0-py3-none-any.whl.metadata (12 kB)\n",
      "Collecting networkx (from torch)\n",
      "  Using cached networkx-3.5-py3-none-any.whl.metadata (6.3 kB)\n",
      "Collecting jinja2 (from torch)\n",
      "  Using cached jinja2-3.1.6-py3-none-any.whl.metadata (2.9 kB)\n",
      "Collecting fsspec (from torch)\n",
      "  Using cached fsspec-2025.7.0-py3-none-any.whl.metadata (12 kB)\n",
      "Collecting mpmath<1.4,>=1.1.0 (from sympy>=1.13.3->torch)\n",
      "  Using cached mpmath-1.3.0-py3-none-any.whl.metadata (8.6 kB)\n",
      "Collecting MarkupSafe>=2.0 (from jinja2->torch)\n",
      "  Using cached MarkupSafe-3.0.2-cp313-cp313-macosx_11_0_arm64.whl.metadata (4.0 kB)\n",
      "Using cached torch-2.7.1-cp313-none-macosx_11_0_arm64.whl (68.6 MB)\n",
      "Using cached sympy-1.14.0-py3-none-any.whl (6.3 MB)\n",
      "Using cached mpmath-1.3.0-py3-none-any.whl (536 kB)\n",
      "Using cached filelock-3.18.0-py3-none-any.whl (16 kB)\n",
      "Using cached fsspec-2025.7.0-py3-none-any.whl (199 kB)\n",
      "Using cached jinja2-3.1.6-py3-none-any.whl (134 kB)\n",
      "Using cached MarkupSafe-3.0.2-cp313-cp313-macosx_11_0_arm64.whl (12 kB)\n",
      "Using cached networkx-3.5-py3-none-any.whl (2.0 MB)\n",
      "Using cached setuptools-80.9.0-py3-none-any.whl (1.2 MB)\n",
      "Installing collected packages: mpmath, sympy, setuptools, networkx, MarkupSafe, fsspec, filelock, jinja2, torch\n",
      "\u001b[2K   \u001b[90m━━━━━━━━━━━━━━━━━━━━━━━━━━━━━━━━━━━━━━━━\u001b[0m \u001b[32m9/9\u001b[0m [torch]32m8/9\u001b[0m [torch]]x]s]\n",
      "\u001b[1A\u001b[2KSuccessfully installed MarkupSafe-3.0.2 filelock-3.18.0 fsspec-2025.7.0 jinja2-3.1.6 mpmath-1.3.0 networkx-3.5 setuptools-80.9.0 sympy-1.14.0 torch-2.7.1\n"
     ]
    }
   ],
   "source": [
    "!pip install torch"
   ]
  },
  {
   "cell_type": "code",
   "execution_count": 3,
   "id": "6d460ab0",
   "metadata": {},
   "outputs": [
    {
     "name": "stdout",
     "output_type": "stream",
     "text": [
      "Using device: cpu\n",
      "A:\n",
      "tensor([[0.5773, 1.3215],\n",
      "        [0.6862, 0.9049],\n",
      "        [0.3667, 0.5851]])\n",
      "\n",
      "B:\n",
      "tensor([[-0.3229,  0.3479,  0.5602],\n",
      "        [-0.3126, -0.3931, -1.3776]])\n",
      "\n",
      "C (A @ B):\n",
      "tensor([[-0.5996, -0.3186, -1.4971],\n",
      "        [-0.5045, -0.1170, -0.8622],\n",
      "        [-0.3013, -0.1024, -0.6005]])\n",
      "\n",
      "D (A + ones):\n",
      "tensor([[1.5773, 2.3215],\n",
      "        [1.6862, 1.9049],\n",
      "        [1.3667, 1.5851]])\n",
      "\n",
      "C is on device: cpu\n",
      "\n",
      "D is on device: cpu\n"
     ]
    }
   ],
   "source": [
    "import torch\n",
    "\n",
    "# Check if GPU is available and set device\n",
    "device = torch.device(\"cuda\" if torch.cuda.is_available() else \"cpu\")\n",
    "print(f\"Using device: {device}\")\n",
    "\n",
    "# Create tensor A: 3x2 matrix with random values from normal distribution\n",
    "A = torch.randn(3, 2)\n",
    "print(f\"A:\\n{A}\\n\")\n",
    "\n",
    "# Create tensor B: 2x3 matrix with random values from normal distribution\n",
    "B = torch.randn(2, 3)\n",
    "print(f\"B:\\n{B}\\n\")\n",
    "\n",
    "# Compute matrix multiplication: C = A @ B\n",
    "# @ is the matrix multiplication operator; result is 3x3\n",
    "C = A @ B\n",
    "print(f\"C (A @ B):\\n{C}\\n\")\n",
    "\n",
    "# Compute element-wise addition: D = A + ones_like(A)\n",
    "# ones_like creates a tensor of ones matching A's shape\n",
    "D = A + torch.ones_like(A)\n",
    "print(f\"D (A + ones):\\n{D}\\n\")\n",
    "\n",
    "# Move tensor C to GPU if available, else keep on CPU\n",
    "C = C.to(device)\n",
    "print(f\"C is on device: {C.device}\\n\")\n",
    "\n",
    "# Move tensor D to GPU if available, else keep on CPU\n",
    "D = D.to(device)\n",
    "print(f\"D is on device: {D.device}\")"
   ]
  }
 ],
 "metadata": {
  "kernelspec": {
   "display_name": "venv",
   "language": "python",
   "name": "python3"
  },
  "language_info": {
   "codemirror_mode": {
    "name": "ipython",
    "version": 3
   },
   "file_extension": ".py",
   "mimetype": "text/x-python",
   "name": "python",
   "nbconvert_exporter": "python",
   "pygments_lexer": "ipython3",
   "version": "3.13.5"
  }
 },
 "nbformat": 4,
 "nbformat_minor": 5
}
