{
 "cells": [
  {
   "cell_type": "code",
   "execution_count": 4,
   "id": "3697e490",
   "metadata": {},
   "outputs": [
    {
     "name": "stdout",
     "output_type": "stream",
     "text": [
      "Epoch 1: Loss = 0.46\n",
      "Epoch 30: Loss = 0.18\n",
      "Accuracy: 90.0%\n"
     ]
    }
   ],
   "source": [
    "import torch\n",
    "from sklearn.datasets import make_classification\n",
    "from sklearn.model_selection import train_test_split\n",
    "\n",
    "# Generate dataset\n",
    "X, y = make_classification(n_samples=100, n_features=2, n_redundant=0, n_classes=2, random_state=1)\n",
    "\n",
    "# Split into train and test\n",
    "X_train, X_test, y_train, y_test = train_test_split(X, y, test_size=0.2, random_state=1)\n",
    "\n",
    "# Convert to tensors\n",
    "X_train = torch.tensor(X_train, dtype=torch.float32)\n",
    "X_test = torch.tensor(X_test, dtype=torch.float32)\n",
    "y_train = torch.tensor(y_train, dtype=torch.float32).unsqueeze(1)\n",
    "y_test = torch.tensor(y_test, dtype=torch.float32).unsqueeze(1)\n",
    "\n",
    "# Initialize parameters\n",
    "W1 = torch.randn(2, 4, requires_grad=True)\n",
    "b1 = torch.zeros(1, 4, requires_grad=True)\n",
    "W2 = torch.randn(4, 1, requires_grad=True)\n",
    "b2 = torch.zeros(1, 1, requires_grad=True)\n",
    "\n",
    "lr = 0.1  # Learning rate\n",
    "epochs = 30\n",
    "\n",
    "for epoch in range(1, epochs + 1):\n",
    "    # Forward pass\n",
    "    Z1 = X_train @ W1 + b1\n",
    "    A1 = torch.relu(Z1)\n",
    "    Z2 = A1 @ W2 + b2\n",
    "    Y_pred = torch.sigmoid(Z2)\n",
    "    \n",
    "    # Compute loss for backward\n",
    "    loss = -torch.mean(y_train * torch.log(Y_pred + 1e-10) + (1 - y_train) * torch.log(1 - Y_pred + 1e-10))\n",
    "    \n",
    "    # Backward\n",
    "    loss.backward()\n",
    "    \n",
    "    # Update weights\n",
    "    with torch.no_grad():\n",
    "        W1 -= lr * W1.grad\n",
    "        b1 -= lr * b1.grad\n",
    "        W2 -= lr * W2.grad\n",
    "        b2 -= lr * b2.grad\n",
    "    \n",
    "    # Zero gradients\n",
    "    W1.grad.zero_()\n",
    "    b1.grad.zero_()\n",
    "    W2.grad.zero_()\n",
    "    b2.grad.zero_()\n",
    "    \n",
    "    # Recompute forward and loss after update\n",
    "    Z1 = X_train @ W1 + b1\n",
    "    A1 = torch.relu(Z1)\n",
    "    Z2 = A1 @ W2 + b2\n",
    "    Y_pred = torch.sigmoid(Z2)\n",
    "    loss = -torch.mean(y_train * torch.log(Y_pred + 1e-10) + (1 - y_train) * torch.log(1 - Y_pred + 1e-10))\n",
    "    \n",
    "    if epoch == 1:\n",
    "        print(f\"Epoch 1: Loss = {loss.item():.2f}\")\n",
    "    if epoch == 30:\n",
    "        print(f\"Epoch 30: Loss = {loss.item():.2f}\")\n",
    "\n",
    "# Accuracy on test set\n",
    "with torch.no_grad():\n",
    "    Z1_test = X_test @ W1 + b1\n",
    "    A1_test = torch.relu(Z1_test)\n",
    "    Z2_test = A1_test @ W2 + b2\n",
    "    Y_pred_test = torch.sigmoid(Z2_test)\n",
    "    preds = (Y_pred_test > 0.5).float()\n",
    "    acc = (preds == y_test).float().mean().item() * 100\n",
    "    print(f\"Accuracy: {acc:.1f}%\")"
   ]
  }
 ],
 "metadata": {
  "kernelspec": {
   "display_name": "venv",
   "language": "python",
   "name": "python3"
  },
  "language_info": {
   "codemirror_mode": {
    "name": "ipython",
    "version": 3
   },
   "file_extension": ".py",
   "mimetype": "text/x-python",
   "name": "python",
   "nbconvert_exporter": "python",
   "pygments_lexer": "ipython3",
   "version": "3.13.5"
  }
 },
 "nbformat": 4,
 "nbformat_minor": 5
}
